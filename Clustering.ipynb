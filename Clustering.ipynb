{
 "cells": [
  {
   "cell_type": "markdown",
   "id": "d440de94",
   "metadata": {},
   "source": [
    "## Churn Prediction "
   ]
  },
  {
   "cell_type": "code",
   "execution_count": null,
   "id": "5f4dd3f8",
   "metadata": {},
   "outputs": [],
   "source": [
    "# import necessary libraries\n",
    "\n",
    "import numpy as np\n",
    "import pandas as pd\n",
    "import matplotlib.pyplot as plt\n",
    "import seaborn as sns\n",
    "from sklearn.cluster import KMeans\n",
    "from sklearn.metrics import silhouette_score\n",
    "from yellowbrick.cluster import SilhouetteVisualizer\n",
    "import pickle\n",
    "import json\n",
    "import warnings\n",
    "\n",
    "# Configurations:\n",
    "warnings.filterwarnings(\"ignore\")\n",
    "pd.set_option('display.max_columns', 1500)\n",
    "pd.set_option('display.float_format', lambda x: '%.6f' % x)\n",
    "pd.set_option('display.max_rows', 500)\n",
    "pd.set_option('display.width', 1500)\n"
   ]
  },
  {
   "cell_type": "markdown",
   "id": "c12c4f43",
   "metadata": {},
   "source": [
    "#### Import the dataset"
   ]
  },
  {
   "cell_type": "code",
   "execution_count": null,
   "id": "f9f6d433",
   "metadata": {
    "scrolled": true
   },
   "outputs": [],
   "source": [
    "df = pd.read_csv('.\\data\\BankChurners.csv')"
   ]
  },
  {
   "cell_type": "markdown",
   "id": "dd50184f",
   "metadata": {},
   "source": [
    "#### Understanding the data"
   ]
  },
  {
   "cell_type": "code",
   "execution_count": null,
   "id": "b018c9af",
   "metadata": {},
   "outputs": [],
   "source": [
    "df.head()"
   ]
  },
  {
   "cell_type": "code",
   "execution_count": null,
   "id": "c78fd8b6",
   "metadata": {},
   "outputs": [],
   "source": [
    "df.shape"
   ]
  },
  {
   "cell_type": "code",
   "execution_count": null,
   "id": "fd27c126",
   "metadata": {},
   "outputs": [],
   "source": [
    "df.isnull().sum()"
   ]
  },
  {
   "cell_type": "code",
   "execution_count": null,
   "id": "c6266afe",
   "metadata": {},
   "outputs": [],
   "source": [
    "df.info()"
   ]
  },
  {
   "cell_type": "code",
   "execution_count": null,
   "id": "4978c232",
   "metadata": {},
   "outputs": [],
   "source": [
    "# Visualizing the categotical features in one plot\n",
    "fig, ax = plt.subplots(3, 2, figsize = (8, 8))\n",
    "sns.countplot(df['Attrition_Flag'], ax = ax[0, 0])\n",
    "sns.countplot(df['Gender'], ax = ax[0, 1])\n",
    "f1 = sns.countplot(df['Education_Level'], ax = ax[1, 0])\n",
    "f1.set_xticklabels(f1.get_xticklabels(), rotation = 20)\n",
    "sns.countplot(df['Marital_Status'], ax = ax[1, 1])\n",
    "f2 = sns.countplot(df['Income_Category'], ax = ax[2, 0])\n",
    "f2.set_xticklabels(f2.get_xticklabels(), rotation = 20)\n",
    "sns.countplot(df['Card_Category'], ax = ax[2, 1])\n",
    "fig.tight_layout()"
   ]
  },
  {
   "cell_type": "markdown",
   "id": "3c97787e",
   "metadata": {},
   "source": [
    "### Data Preprocessing"
   ]
  },
  {
   "cell_type": "code",
   "execution_count": null,
   "id": "3f71c0d8",
   "metadata": {},
   "outputs": [],
   "source": [
    "# select except the last two (unnecessary) columns\n",
    "df = df.iloc[:, :-2]\n",
    "df.head()"
   ]
  },
  {
   "cell_type": "code",
   "execution_count": null,
   "id": "dee64e8d",
   "metadata": {},
   "outputs": [],
   "source": [
    "# Statictical information and Variables relationships\n",
    "df.describe()"
   ]
  },
  {
   "cell_type": "code",
   "execution_count": null,
   "id": "29680533",
   "metadata": {},
   "outputs": [],
   "source": [
    "# convert Attrited Customer to 1, Existing Customer to 0\n",
    "df['Attrition_Flag'] = df['Attrition_Flag'].replace({'Attrited Customer':1,'Existing Customer':0})"
   ]
  },
  {
   "cell_type": "code",
   "execution_count": null,
   "id": "6d1d4013",
   "metadata": {},
   "outputs": [],
   "source": [
    "# correlation in glimps:\n",
    "df_corr= df.iloc[:,0:]\n",
    "\n",
    "plt.figure(figsize=(12,5))\n",
    "df_corr.corr()['Attrition_Flag'].sort_values(ascending = False).plot(kind='bar')"
   ]
  },
  {
   "cell_type": "markdown",
   "id": "867d01c1",
   "metadata": {},
   "source": [
    "#### Observations:\n",
    "\n",
    "- Correlation of gender, marital status, education level and customer age with Attrition flag are low.\n",
    "- contacts_count_12_mon, Months-Inactive_12_mon seem to be positively correlated with churn. While, credit_limit,Total_Amt_Chng_A4_Q1, Total_Relationship_count, Total_Revolving_Bal, Total_Trans_Ct seem to be negatively correlated with churn.\n",
    "- It seems that Card_Category and Avg_Open_To_Buy has lower correlation whith churn."
   ]
  },
  {
   "cell_type": "markdown",
   "id": "1176afed",
   "metadata": {},
   "source": [
    "#### Feature Selection\n",
    "\n",
    "According to the observation made, three features namely:Total_Revolving_Bal, Total_Ct_Chng_Q4_Q1 \n",
    "and Months_Inactive_12_mon has been selected to build the model."
   ]
  },
  {
   "cell_type": "code",
   "execution_count": null,
   "id": "2d826d6a",
   "metadata": {},
   "outputs": [],
   "source": [
    "df_train = df[['Total_Revolving_Bal', 'Total_Ct_Chng_Q4_Q1','Months_Inactive_12_mon']]"
   ]
  },
  {
   "cell_type": "markdown",
   "id": "f10928b7",
   "metadata": {},
   "source": [
    "#### Find the optimal value for k for k-means algorithm"
   ]
  },
  {
   "cell_type": "code",
   "execution_count": null,
   "id": "5b9df1b5",
   "metadata": {},
   "outputs": [],
   "source": [
    "# Elbow plot\n",
    "\n",
    "sse = []\n",
    "k_rng = range(1,10)\n",
    "for k in k_rng:\n",
    "    km = KMeans(n_clusters=k)\n",
    "    km.fit(df_train)\n",
    "    sse.append(km.inertia_)\n",
    "    \n",
    "plt.xlabel('K')\n",
    "plt.ylabel('Sum of squared error')\n",
    "plt.plot(k_rng,sse,  marker='o')    "
   ]
  },
  {
   "cell_type": "code",
   "execution_count": null,
   "id": "cc79713c",
   "metadata": {},
   "outputs": [],
   "source": [
    "# Using Silhoutte score for identifying the optimum value of k\n",
    "fig, ax = plt.subplots(3, 2, figsize=(15,8))\n",
    "for i in [2, 3, 4, 5, 6, 7]:\n",
    "    '''\n",
    "    Create KMeans instance for different number of clusters\n",
    "    '''\n",
    "    km = KMeans(n_clusters=i, init='k-means++', n_init=10, max_iter=100, random_state=42)\n",
    "    q, mod = divmod(i, 2)\n",
    "    '''\n",
    "    Create SilhouetteVisualizer instance with KMeans instance\n",
    "    Fit the visualizer\n",
    "    '''\n",
    "    visualizer = SilhouetteVisualizer(km, colors='yellowbrick', ax=ax[q-1][mod])\n",
    "    visualizer.fit(df_train) "
   ]
  },
  {
   "cell_type": "markdown",
   "id": "33cbe204",
   "metadata": {},
   "source": [
    "#### Training the model using K-means clustering algorithm"
   ]
  },
  {
   "cell_type": "code",
   "execution_count": null,
   "id": "3c0353f1",
   "metadata": {
    "scrolled": true
   },
   "outputs": [],
   "source": [
    "km = KMeans(n_clusters=3)\n",
    "km.fit_transform(df_train)\n",
    "y_pred = km.predict(df_train)\n",
    "centroids = km.cluster_centers_\n",
    "\n",
    "# Calculate Silhoutte Score\n",
    "score = silhouette_score(df_train, km.labels_, metric='euclidean')\n",
    "print('Silhouette Score: %.3f' % score)"
   ]
  },
  {
   "cell_type": "code",
   "execution_count": null,
   "id": "91b75606",
   "metadata": {},
   "outputs": [],
   "source": [
    "# add the predicted value to the main and training dataset\n",
    "df_train['cluster'] = y_pred\n",
    "df['cluster'] = y_pred"
   ]
  },
  {
   "cell_type": "code",
   "execution_count": null,
   "id": "0f62480e",
   "metadata": {},
   "outputs": [],
   "source": [
    "# function to calculate the churn rate\n",
    "\n",
    "def churn_rate(df, cluster_id):\n",
    "    cluster = df[df['cluster']== cluster_id]\n",
    "    df_count = cluster[\"Attrition_Flag\"].value_counts()\n",
    "    churn_rate = (df_count[1] / (df_count[0] + df_count[1]) * 100)\n",
    "    churn_rate = churn_rate.round(decimals = 2)\n",
    "    \n",
    "    return churn_rate"
   ]
  },
  {
   "cell_type": "code",
   "execution_count": null,
   "id": "ae63965f",
   "metadata": {},
   "outputs": [],
   "source": [
    "# function to calculate the female %\n",
    "\n",
    "def gender(df, cluster_id):\n",
    "    cluster = df[df['cluster']== cluster_id]\n",
    "    df_count = cluster[\"Gender\"].value_counts()\n",
    "    f_count = (df_count['F'] / (df_count['F'] + df_count['M']) * 100)\n",
    "    f_count = f_count.round(decimals = 2)\n",
    "    \n",
    "    return f_count"
   ]
  },
  {
   "cell_type": "code",
   "execution_count": null,
   "id": "11676f44",
   "metadata": {},
   "outputs": [],
   "source": [
    "# call the function to calculate the churn rate and female % for each cluster\n",
    "churn_rate_info = {}\n",
    "gender_info = {}\n",
    "for i in range(0,3): \n",
    "    churn_rate_info[i] = churn_rate(df, i)\n",
    "    gender_info[i] = gender(df, i)\n",
    "    "
   ]
  },
  {
   "cell_type": "markdown",
   "id": "85d0533f",
   "metadata": {},
   "source": [
    "#### Save the model and calculations locally"
   ]
  },
  {
   "cell_type": "code",
   "execution_count": null,
   "id": "86630a7c",
   "metadata": {},
   "outputs": [],
   "source": [
    "# save the model to disk\n",
    "filename = '.\\model\\clustering_model.sav'\n",
    "pickle.dump(km, open(filename, 'wb'))\n",
    "\n",
    "# save the dictionary into a json file\n",
    "# Serializing json\n",
    "json_object = json.dumps(churn_rate_info, indent=4)\n",
    " \n",
    "# Writing to churn_rate_info.json\n",
    "with open(\".\\data\\churn_rate_info.json\", \"w\") as outfile:\n",
    "    outfile.write(json_object)\n",
    "     \n",
    "# Writing to churn_rate_info.json\n",
    "json_object = json.dumps(gender_info, indent=4)\n",
    "with open(\".\\data\\gender_info.json\", \"w\") as outfile:\n",
    "    outfile.write(json_object)    "
   ]
  },
  {
   "cell_type": "markdown",
   "id": "f6289ec8",
   "metadata": {},
   "source": [
    "#### Visualize the cluster"
   ]
  },
  {
   "cell_type": "code",
   "execution_count": null,
   "id": "65e1fde3",
   "metadata": {},
   "outputs": [],
   "source": [
    "df1 = df_train[df_train.cluster==0]\n",
    "df2 = df_train[df_train.cluster==1]\n",
    "df3 = df_train[df_train.cluster==2]\n",
    "\n",
    "fig = plt.figure(figsize=(10,10))\n",
    "ax = fig.gca(projection='3d')\n",
    "\n",
    "ax.scatter(centroids[:,0],centroids[:,1],centroids[:,2],c=\"black\",s=200,label=\"Centers\",alpha=1, marker='*')\n",
    "ax.scatter(df1['Total_Revolving_Bal'],df1['Total_Ct_Chng_Q4_Q1'],df1['Months_Inactive_12_mon'],c=\"blue\",s=40,label=\"C1\")\n",
    "ax.scatter(df2['Total_Revolving_Bal'],df2['Total_Ct_Chng_Q4_Q1'],df2['Months_Inactive_12_mon'],c=\"yellow\",s=40,label=\"C2\")\n",
    "ax.scatter(df3['Total_Revolving_Bal'],df3['Total_Ct_Chng_Q4_Q1'],df3['Months_Inactive_12_mon'],c=\"red\",s=40,label=\"C3\")\n",
    "plt.legend(loc=\"upper right\",framealpha=1, frameon=True)\n",
    "plt.show()"
   ]
  },
  {
   "cell_type": "code",
   "execution_count": null,
   "id": "03e3cf65",
   "metadata": {},
   "outputs": [],
   "source": []
  }
 ],
 "metadata": {
  "kernelspec": {
   "display_name": "Python 3 (ipykernel)",
   "language": "python",
   "name": "python3"
  },
  "language_info": {
   "codemirror_mode": {
    "name": "ipython",
    "version": 3
   },
   "file_extension": ".py",
   "mimetype": "text/x-python",
   "name": "python",
   "nbconvert_exporter": "python",
   "pygments_lexer": "ipython3",
   "version": "3.10.2"
  }
 },
 "nbformat": 4,
 "nbformat_minor": 5
}
